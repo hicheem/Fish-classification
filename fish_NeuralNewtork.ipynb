{
  "nbformat": 4,
  "nbformat_minor": 0,
  "metadata": {
    "colab": {
      "provenance": []
    },
    "kernelspec": {
      "display_name": "Python 3",
      "name": "python3"
    },
    "language_info": {
      "name": "python"
    }
  },
  "cells": [
    {
      "cell_type": "markdown",
      "metadata": {
        "id": "WKH8Co2bfw_g"
      },
      "source": [
        "Import some libraries"
      ]
    },
    {
      "cell_type": "code",
      "metadata": {
        "id": "1c3SvlzP0Rtv"
      },
      "source": [
        "!pip install pyyaml h5py"
      ],
      "execution_count": null,
      "outputs": []
    },
    {
      "cell_type": "code",
      "metadata": {
        "id": "501zb79JdZ-w"
      },
      "source": [
        "import numpy as np\n",
        "from tensorflow import keras\n",
        "import tensorflow as tf\n",
        "import os \n",
        "import matplotlib.pyplot as plt\n",
        "from matplotlib.pyplot import imread\n",
        "from matplotlib.pyplot import imshow\n",
        "import cv2"
      ],
      "execution_count": null,
      "outputs": []
    },
    {
      "cell_type": "markdown",
      "metadata": {
        "id": "g0U22NxSf56Y"
      },
      "source": [
        "Downloading the Dataset"
      ]
    },
    {
      "cell_type": "code",
      "metadata": {
        "id": "L9CjqMgDYzSW"
      },
      "source": [
        "!wget https://groups.inf.ed.ac.uk/f4k/GROUNDTRUTH/RECOG/Archive/fishRecognition_GT.tar\n"
      ],
      "execution_count": null,
      "outputs": []
    },
    {
      "cell_type": "markdown",
      "metadata": {
        "id": "NXwHBRScf-ze"
      },
      "source": [
        "Extract files"
      ]
    },
    {
      "cell_type": "code",
      "metadata": {
        "id": "05WLdQBoZXhi"
      },
      "source": [
        "import tarfile\n",
        "tar = tarfile.open(\"fishRecognition_GT.tar\")\n",
        "tar.extractall()\n",
        "tar.close()"
      ],
      "execution_count": null,
      "outputs": []
    },
    {
      "cell_type": "markdown",
      "metadata": {
        "id": "eO8OxdANgB7O"
      },
      "source": [
        "Read the DATA and store it to x and y"
      ]
    },
    {
      "cell_type": "code",
      "metadata": {
        "id": "j65n_H05x019"
      },
      "source": [
        "path = '/content/fish_image'\n",
        "categories = os.listdir(path)\n",
        "categories.sort()\n",
        "classes = len(categories)\n",
        "size = 0\n",
        "for cat in categories:\n",
        "  size = size+len(os.listdir('/content/fish_image/'+cat))\n",
        "\n",
        "i = 0\n",
        "p = 0\n",
        "x = np.zeros((size, 112, 112, 3), dtype=np.float32)\n",
        "y = np.zeros((size, classes), dtype=np.float32)\n",
        "for categorie in categories:\n",
        "  ph = path + '/' + categorie\n",
        "  img_dir = os.listdir(ph)\n",
        "  img_dir.sort()\n",
        "  for dir in img_dir:\n",
        "    z = cv2.resize(cv2.imread(ph + '/' + dir),(112, 112))\n",
        "    x[p,:,:,:] = z/256.\n",
        "    y[p,i] = 1\n",
        "    p += 1\n",
        "  i += 1\n",
        "  "
      ],
      "execution_count": null,
      "outputs": []
    },
    {
      "cell_type": "markdown",
      "metadata": {
        "id": "82TbRsY0gQx0"
      },
      "source": [
        "Split the DATA"
      ]
    },
    {
      "cell_type": "code",
      "metadata": {
        "id": "9L67DpaxfQPS"
      },
      "source": [
        "from sklearn.model_selection import train_test_split\n",
        "X_train, X_test, y_train, y_test = train_test_split(x, y, test_size= 0.3, random_state= 1)\n",
        "X_train, X_val, y_train, y_val = train_test_split(X_train,y_train , test_size =0.2, random_state = 1 )"
      ],
      "execution_count": null,
      "outputs": []
    },
    {
      "cell_type": "code",
      "metadata": {
        "id": "VQ7CUsXb2_C7"
      },
      "source": [
        "print(x.shape)\n",
        "print(X_train.shape)\n",
        "print(X_test.shape)\n",
        "print(X_val.shape)"
      ],
      "execution_count": null,
      "outputs": []
    },
    {
      "cell_type": "markdown",
      "metadata": {
        "id": "vewhIhG7gbcI"
      },
      "source": [
        "Define the model 'VGG16'"
      ]
    },
    {
      "cell_type": "code",
      "metadata": {
        "id": "ImpL-XzcyNDI"
      },
      "source": [
        "# define cnn model 'using VGG16'\n",
        "def define_model(classes):\n",
        "    # load model\n",
        "    model = VGG16(include_top=False, input_shape=(112, 112, 3))\n",
        "    # mark loaded layers as not trainable\n",
        "    for layer in model.layers:\n",
        "        layer.trainable = False\n",
        "    # add new classifier layers\n",
        "    flat1 = Flatten()(model.layers[-1].output)\n",
        "    class1 = Dense(128, activation='relu', kernel_initializer='he_uniform')(flat1)\n",
        "    output = Dense(classes, activation='softmax')(class1)\n",
        "    # define new model\n",
        "    model = Model(inputs=model.inputs, outputs=output)\n",
        "    # compile model\n",
        "    opt = Adam(lr=1e-4)\n",
        "    model.compile(optimizer=opt, loss='categorical_crossentropy', metrics=['accuracy'])\n",
        "    model.summary()\n",
        "    return model"
      ],
      "execution_count": null,
      "outputs": []
    },
    {
      "cell_type": "code",
      "metadata": {
        "id": "3sdGQqbFyTqv"
      },
      "source": [
        "from keras.applications.vgg16 import VGG16\n",
        "from keras.models import Model\n",
        "from keras.layers import Dense\n",
        "from keras.layers import Flatten\n",
        "from tensorflow.keras.optimizers import Adam\n",
        "\n",
        "model = define_model(classes)\n"
      ],
      "execution_count": null,
      "outputs": []
    },
    {
      "cell_type": "markdown",
      "metadata": {
        "id": "I2oQznBBgguB"
      },
      "source": [
        "DATA augmentation using ImageDataGenrator "
      ]
    },
    {
      "cell_type": "code",
      "metadata": {
        "id": "vKKM363JzGMJ"
      },
      "source": [
        "from tensorflow.keras.applications.resnet50 import preprocess_input\n",
        "from tensorflow.keras.preprocessing.image import ImageDataGenerator\n",
        "import tensorflow as tf\n",
        "datagen = ImageDataGenerator(featurewise_center=True, featurewise_std_normalization=False, rotation_range=20, \n",
        "                             width_shift_range=0.2,height_shift_range=0.2,\n",
        "                             horizontal_flip=True)\n",
        "# compute quantities required for featurewise normalization\n",
        "# (std, mean, and principal components if ZCA whitening is applied)\n",
        "datagen.fit(X_train)"
      ],
      "execution_count": null,
      "outputs": []
    },
    {
      "cell_type": "markdown",
      "metadata": {
        "id": "rk5jzRS7goDN"
      },
      "source": [
        "Callback for saving each epoch"
      ]
    },
    {
      "cell_type": "code",
      "metadata": {
        "id": "rWebucQ88Gpv"
      },
      "source": [
        "checkpoint_path = \"training_1/cp.ckpt\"\n",
        "checkpoint_dir = os.path.dirname(checkpoint_path)\n",
        "\n",
        "# Create a callback that saves the model's weights\n",
        "cp_callback = tf.keras.callbacks.ModelCheckpoint(filepath=checkpoint_path,\n",
        "                                                 save_weights_only=True,\n",
        "                                                 verbose=1)"
      ],
      "execution_count": null,
      "outputs": []
    },
    {
      "cell_type": "markdown",
      "metadata": {
        "id": "6jZzzEshgz3k"
      },
      "source": [
        "Fitting the model"
      ]
    },
    {
      "cell_type": "code",
      "metadata": {
        "id": "_3xxsPQx6vav"
      },
      "source": [
        "if os.path.exists('/content/my_model.h5')==False:\n",
        "  history = model.fit(datagen.flow(X_train, y_train, batch_size=32), steps_per_epoch=len(X_train) / 32, epochs=5,callbacks=[cp_callback], validation_data=(X_val,y_val))\n",
        "  model.save('my_model.h5')\n",
        "else :\n",
        "  model = tf.keras.models.load_model('my_model.h5')"
      ],
      "execution_count": null,
      "outputs": []
    },
    {
      "cell_type": "code",
      "metadata": {
        "colab": {
          "base_uri": "https://localhost:8080/"
        },
        "id": "JTy37RAOICog",
        "outputId": "828c8963-4717-49bf-e3ce-f05d77cd7c12"
      },
      "source": [
        "loss_test, acc_test = model.evaluate(X_test, y_test, verbose=2)\n",
        "print(\"Untrained model, accuracy: {:5.2f}%\".format(100 * acc_test))"
      ],
      "execution_count": null,
      "outputs": [
        {
          "output_type": "stream",
          "name": "stdout",
          "text": [
            "257/257 - 683s - loss: 0.1972 - accuracy: 0.9442\n",
            "Untrained model, accuracy: 94.42%\n"
          ]
        }
      ]
    },
    {
      "cell_type": "code",
      "metadata": {
        "id": "jhIFTcjLEy6S"
      },
      "source": [
        "ypred = model.predict(X_test)\n",
        "print(ypred)"
      ],
      "execution_count": null,
      "outputs": []
    },
    {
      "cell_type": "markdown",
      "metadata": {
        "id": "p4PM23SFg3Rc"
      },
      "source": [
        "Testing the model"
      ]
    },
    {
      "cell_type": "code",
      "metadata": {
        "id": "i_tOvePuOg6i"
      },
      "source": [
        "i=int(input(\"Enter the index of any picture from the test batch to predict ie. enter a number from 0 to 15326 (de X_train) :  \"))\n",
        "print(\"\\nPrediction: \\n\",ypred[i])\n",
        "print(\"\\nActual: \\n\",y_test[i])\n",
        "imshow(X_test[i])"
      ],
      "execution_count": null,
      "outputs": []
    },
    {
      "cell_type": "code",
      "metadata": {
        "id": "qLnaTzcUOpm_"
      },
      "source": [
        "labels=['fish_01','fish_02','fish_03','fish_04','fish_05','fish_06','fish_07','fish_08','fish_09','fish_10','fish_11','fish_12','fish_13','fish_14','fish_15','fish_16','fish_17','fish_18','fish_19','fish_20','fish_21','fish_22','fish_23',]\n",
        "plt.figure(figsize=(20,8))\n",
        "plt.bar(labels,y_test[i])                          \n",
        "plt.bar(labels,ypred[i])"
      ],
      "execution_count": null,
      "outputs": []
    },
    {
      "cell_type": "markdown",
      "metadata": {
        "id": "eP3MOgeVg6iG"
      },
      "source": [
        "Accuracy and Loss plotting"
      ]
    },
    {
      "cell_type": "code",
      "metadata": {
        "colab": {
          "base_uri": "https://localhost:8080/",
          "height": 421
        },
        "id": "b2otvNeHO8dm",
        "outputId": "9c9efe40-a28f-4da7-c05d-77118100b6a7"
      },
      "source": [
        "acc = history.history['accuracy']             #Train accuracy\n",
        "val_acc = history.history['val_accuracy']     #Validation accuracy\n",
        "loss = history.history['loss']                #Train loss\n",
        "val_loss = history.history['val_loss']        #Validation loss\n",
        "\n",
        "\n",
        "epochs_range = range(5)\n",
        "\n",
        "plt.figure(figsize=(15, 15))\n",
        "plt.subplot(2, 2, 1)\n",
        "plt.plot(epochs_range, acc, label='Training Accuracy')\n",
        "plt.plot(epochs_range, val_acc, label='Validation Accuracy')\n",
        "plt.legend(loc='lower right')\n",
        "plt.title('Training and Validation Accuracy')\n",
        "\n",
        "\n",
        "plt.subplot(2, 2, 2)\n",
        "plt.plot(epochs_range, loss, label='Training Loss')\n",
        "plt.plot(epochs_range, val_loss, label='Validation Loss')\n",
        "plt.legend(loc='upper right')\n",
        "plt.title('Training and Validation Loss')\n",
        "plt.show()\n"
      ],
      "execution_count": null,
      "outputs": [
        {
          "output_type": "display_data",
          "data": {
            "image/png": "[encoded data removed]",
            "text/plain": [
              "<Figure size 1080x1080 with 2 Axes>"
            ]
          },
          "metadata": {
            "needs_background": "light"
          }
        }
      ]
    }
  ]
}